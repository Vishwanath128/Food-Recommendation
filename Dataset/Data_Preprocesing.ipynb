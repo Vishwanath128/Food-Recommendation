{
 "cells": [
  {
   "cell_type": "code",
   "execution_count": 38,
   "metadata": {},
   "outputs": [],
   "source": [
    "from sklearn.preprocessing import MinMaxScaler\n",
    "import pandas as pd\n",
    "import numpy as np"
   ]
  },
  {
   "cell_type": "code",
   "execution_count": 39,
   "metadata": {},
   "outputs": [
    {
     "data": {
      "text/plain": [
       "Index(['User_ID', 'Restaurant_ID', 'Food_ID', 'Restaurant_Name', 'Food_Name',\n",
       "       'Is_Vegetarian', 'Price', 'Popularity', 'Rating', 'Taste_Score',\n",
       "       'Food_Price', 'User_Preference_Budget', 'User_Restaurant_Interaction',\n",
       "       'User_Food_Interaction', 'Distance', 'Feedback'],\n",
       "      dtype='object')"
      ]
     },
     "execution_count": 39,
     "metadata": {},
     "output_type": "execute_result"
    }
   ],
   "source": [
    "data = pd.read_csv(r'C:\\\\Users\\\\vishw\\\\projects\\\\Personalized Food Recommendation System\\\\DataSet\\\\Dataset_Final.csv')\n",
    "data.columns"
   ]
  },
  {
   "cell_type": "code",
   "execution_count": 40,
   "metadata": {},
   "outputs": [],
   "source": [
    "# Feature Columns\n",
    "feature_columns = [\"Price\", \"Popularity\", \"Rating\", \"Taste_Score\", \"Food_Price\",\n",
    "    \"User_Preference_Budget\", \"User_Restaurant_Interaction\", \n",
    "    \"User_Food_Interaction\", \"Distance\"]"
   ]
  },
  {
   "cell_type": "code",
   "execution_count": 41,
   "metadata": {},
   "outputs": [],
   "source": [
    "data['Popularity'] = data['Popularity'].clip(lower=data['Popularity'].quantile(0.05),upper=data['Popularity'].quantile(0.95))\n",
    "data['Rating'] = data['Rating'].clip(lower=data['Rating'].quantile(0.05),upper=data['Rating'].quantile(0.95))\n",
    "data['Taste_Score'] = data['Taste_Score'].clip(lower=data['Taste_Score'].quantile(0.05),upper=data['Taste_Score'].quantile(0.95))\n",
    "data['Food_Price'] = data['Food_Price'].clip(lower=data['Food_Price'].quantile(0.05),upper=data['Food_Price'].quantile(0.95))\n",
    "data['User_Preference_Budget'] = data['User_Preference_Budget'].clip(lower=data['User_Preference_Budget'].quantile(0.05),upper=data['User_Preference_Budget'].quantile(0.95))\n",
    "data['User_Restaurant_Interaction'] = data['User_Restaurant_Interaction'].clip(lower=data['User_Restaurant_Interaction'].quantile(0.05),upper=data['User_Restaurant_Interaction'].quantile(0.95))\n",
    "data['User_Food_Interaction'] = data['User_Food_Interaction'].clip(lower=data['User_Food_Interaction'].quantile(0.05),upper=data['User_Food_Interaction'].quantile(0.95))\n",
    "data['Distance'] = data['Distance'].clip(lower=data['Distance'].quantile(0.05),upper=data['Distance'].quantile(0.95))"
   ]
  },
  {
   "cell_type": "code",
   "execution_count": 42,
   "metadata": {},
   "outputs": [],
   "source": [
    "# Min-Max Scaling\n",
    "scaler = MinMaxScaler(feature_range=(0.1, 0.9))\n",
    "data[feature_columns] = scaler.fit_transform(data[feature_columns])"
   ]
  },
  {
   "cell_type": "code",
   "execution_count": null,
   "metadata": {},
   "outputs": [],
   "source": [
    "# Log Transformation for Skewed Data\n",
    "#data['User_Preference_Budget'] = np.log1p(data['User_Preference_Budget'])"
   ]
  },
  {
   "cell_type": "code",
   "execution_count": null,
   "metadata": {},
   "outputs": [],
   "source": [
    "data.to_csv('Normalized_Dataset_1.csv', index=False)"
   ]
  }
 ],
 "metadata": {
  "kernelspec": {
   "display_name": "model_venv",
   "language": "python",
   "name": "python3"
  },
  "language_info": {
   "codemirror_mode": {
    "name": "ipython",
    "version": 3
   },
   "file_extension": ".py",
   "mimetype": "text/x-python",
   "name": "python",
   "nbconvert_exporter": "python",
   "pygments_lexer": "ipython3",
   "version": "3.13.0"
  }
 },
 "nbformat": 4,
 "nbformat_minor": 2
}
