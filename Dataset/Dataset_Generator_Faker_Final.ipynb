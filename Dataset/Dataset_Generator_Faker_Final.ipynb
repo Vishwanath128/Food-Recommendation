{
 "cells": [
  {
   "cell_type": "code",
   "execution_count": 38,
   "metadata": {},
   "outputs": [
    {
     "name": "stdout",
     "output_type": "stream",
     "text": [
      "Requirement already satisfied: Faker in c:\\users\\vishw\\projects\\personalized food recommendation system\\model_venv\\lib\\site-packages (36.1.1)\n",
      "Requirement already satisfied: tzdata in c:\\users\\vishw\\projects\\personalized food recommendation system\\model_venv\\lib\\site-packages (from Faker) (2024.2)\n",
      "Note: you may need to restart the kernel to use updated packages.\n"
     ]
    },
    {
     "name": "stderr",
     "output_type": "stream",
     "text": [
      "\n",
      "[notice] A new release of pip is available: 24.2 -> 25.0.1\n",
      "[notice] To update, run: python.exe -m pip install --upgrade pip\n"
     ]
    }
   ],
   "source": [
    "pip install Faker"
   ]
  },
  {
   "cell_type": "code",
   "execution_count": 39,
   "metadata": {},
   "outputs": [],
   "source": [
    "from faker import Faker\n",
    "import random\n",
    "import pandas as pd\n",
    "from collections import defaultdict"
   ]
  },
  {
   "cell_type": "code",
   "execution_count": 40,
   "metadata": {},
   "outputs": [],
   "source": [
    "fake = Faker(locale = 'en_IN')"
   ]
  },
  {
   "cell_type": "code",
   "execution_count": 41,
   "metadata": {},
   "outputs": [
    {
     "name": "stdout",
     "output_type": "stream",
     "text": [
      "FOOD LIST : 66\n",
      "RESTAUARNT LIST : 20\n",
      "Breakfast : 11\n",
      "Lunch : 9\n",
      "Snack : 10\n",
      "Dinner : 28\n",
      "Dessert : 8\n",
      "Total :  66\n",
      "Non-Veg : 14\n"
     ]
    }
   ],
   "source": [
    "# Number of Data_Entries\n",
    "data_entry = 50000\n",
    "food_names = [\"Podi Dosai\", \"Ghee Dosai\", \"Masal Dosai\", \"Rava Dosai\", \"Onion Dosai\", \"Mini-Idli\", \"Podi-Idli\", \"Poori\", \"Pongal\", \"Mini-Tiffin\", \"Aapam Coconut Milk\", \"Mutton Biryani\", \"Chicken Biryani\", \"Beef Biryani\", \"Prawn Biryani\", \"Non-Veg Meals\", \"Veg-Meals\", \"Veg Biryani\", \"Mushroom Biryani\", \"Paneer Biryani\", \"Pani Puri\", \"Bhel Puri\", \"Samosa Mix\", \"Masala Puri\", \"Dhahi Puri\", \"Pav Bhaji\", \"Vada Paav\", \"Raj Kachodi\", \"Veg Spring Roll\", \"Gobi Manchurian\", \"Naan\", \"Romali Roti\", \"Garlic Naan\", \"Butter Naan\", \"Paneer Butter Masala\", \"Kadai Mushroom Masala\", \"Mushroom Masala\", \"Butter Chicken Masala\", \"Grilled Chicken\", \"Chicken Tandoori\", \"Chicken Kebab\", \"Panneer Tikka\", \"Chicken Tikka\", \"Veg Fried Rice\", \"Veg Noodles\", \"Mushroom Fried Rice\", \"Paneer Fried Rice\", \"Mushroom Noodles\", \"Paneer Noodles\", \"Mixed Fried Rice\", \"Mixed Noodles\", \"Chicken Fried Rice\", \"Chicken Noodles\", \"Parotta\", \"Kothu Parotta\", \"Chicken Kothu Parotta\", \"Chilli Parotta\", \"Chicken Kari Dosai\", \"Chocolate Brownie\", \"Chocolate Truffle\", \"Cheese Cake\", \"Red Velvet Cake\", \"Ice-cream scoops\", \"Falooda\", \"Rasamilai\", \"Gulab Jamun\"]\n",
    "\n",
    "restaurant_names = [\"Shree Mithai\", \"Anjappar\", \"Junior kuppana\", \"Nair mess\", \"Ponnusamy Hotel\", \"Hotel Ariya Bhavan\", \"Spice Klub\", \"Meenakshi Bhavan\", \"North East Kitchen\", \"Kumarakom\", \"Hotel Crescent\" , \"Cholan Mess\", \"Old Madras Mess\", \"Spectra - The Leela Palace\", \"Sri Krishna Villas\", \"Hotel Renuka\" , \"Pattukottai Kamatchi Mess\", \"Vijay Hotels\", \"Kovai Alankar Vilas\", \"Haribhavanam\"]\n",
    "\n",
    "breakfast_list = [\"Podi Dosai\", \"Ghee Dosai\", \"Masal Dosai\", \"Rava Dosai\", \"Onion Dosai\", \"Mini-Idli\", \"Podi-Idli\", \"Poori\", \"Pongal\", \"Mini-Tiffin\", \"Aapam Coconut Milk\"]\n",
    "\n",
    "lunch_list = [\"Mutton Biryani\", \"Chicken Biryani\", \"Beef Biryani\", \"Prawn Biryani\", \"Non-Veg Meals\", \"Veg-Meals\", \"Veg Biryani\", \"Mushroom Biryani\", \"Paneer Biryani\"]\n",
    "\n",
    "snack_list = [\"Pani Puri\", \"Bhel Puri\", \"Samosa Mix\", \"Masala Puri\", \"Dhahi Puri\", \"Pav Bhaji\", \"Vada Paav\", \"Raj Kachodi\", \"Veg Spring Roll\", \"Gobi Manchurian\"]\n",
    "\n",
    "dinner_list = [\"Naan\", \"Romali Roti\", \"Garlic Naan\", \"Butter Naan\", \"Paneer Butter Masala\", \"Kadai Mushroom Masala\", \"Mushroom Masala\", \"Butter Chicken Masala\", \"Grilled Chicken\", \"Chicken Tandoori\", \"Chicken Kebab\", \"Panneer Tikka\", \"Chicken Tikka\", \"Veg Fried Rice\", \"Veg Noodles\", \"Mushroom Fried Rice\", \"Paneer Fried Rice\", \"Mushroom Noodles\", \"Paneer Noodles\", \"Mixed Fried Rice\", \"Mixed Noodles\", \"Chicken Fried Rice\", \"Chicken Noodles\", \"Parotta\", \"Kothu Parotta\", \"Chicken Kothu Parotta\", \"Chilli Parotta\", \"Chicken Kari Dosai\"]\n",
    "\n",
    "dessert_list = [\"Chocolate Brownie\", \"Chocolate Truffle\", \"Cheese Cake\", \"Red Velvet Cake\", \"Ice-cream scoops\", \"Falooda\", \"Rasamilai\", \"Gulab Jamun\"]\n",
    "\n",
    "non_vegetarian_foods = [\"Mutton Biryani\", \"Chicken Biryani\", \"Beef Biryani\", \"Prawn Biryani\", \"Non-Veg Meals\", \"Butter Chicken Masala\", \"Grilled Chicken\", \"Chicken Tandoori\", \"Chicken Kebab\", \"Chicken Tikka\", \"Chicken Fried Rice\", \"Chicken Noodles\", \"Chicken Kothu Parotta\", \"Chicken Kari Dosai\"]\n",
    "print(\"FOOD LIST :\",len(food_names))\n",
    "print(\"RESTAUARNT LIST :\",len(restaurant_names))\n",
    "print(\"Breakfast :\",len(breakfast_list))\n",
    "print(\"Lunch :\",len(lunch_list))\n",
    "print(\"Snack :\",len(snack_list))\n",
    "print(\"Dinner :\",len(dinner_list))\n",
    "print(\"Dessert :\",len(dessert_list))\n",
    "print(\"Total : \",(len(breakfast_list) + len(lunch_list) + len(snack_list) + len(dinner_list) + len(dessert_list)))\n",
    "print(\"Non-Veg :\",len(non_vegetarian_foods))"
   ]
  },
  {
   "cell_type": "code",
   "execution_count": 42,
   "metadata": {},
   "outputs": [],
   "source": [
    "food_pool = {}\n",
    "restaurant_pool = {}\n",
    "num_food_items = 66\n",
    "num_restaurants = 20"
   ]
  },
  {
   "cell_type": "code",
   "execution_count": 43,
   "metadata": {},
   "outputs": [],
   "source": [
    "restaurant_ids_list = [fake.uuid4() for _ in range (num_restaurants)]\n",
    "for i in range(num_restaurants):\n",
    "    restaurant_ids = restaurant_ids_list[i]                  # Restaurant_ID\n",
    "    restaurant_name = restaurant_names[i]                     # Restaurant_Name\n",
    "    popularity = random.uniform(1, 10)             # Popularity\n",
    "\n",
    "    if random.random() < 0.65:                     # Restaurant_Price\n",
    "      prices = random.randint(100, 500)\n",
    "    else:\n",
    "      prices = random.randint(501, 1000)\n",
    "\n",
    "    if popularity >= 8:                            # Restaurant_Ratings\n",
    "     ratings = random.uniform(3.8, 5)\n",
    "    elif 7 <= popularity < 8:\n",
    "     ratings = random.uniform(3.3, 3.8)\n",
    "    else:\n",
    "      ratings = random.uniform(1, 3.2)\n",
    "    restaurant_pool[restaurant_ids] = {\n",
    "        'restaurant_name' : restaurant_name,\n",
    "        'popularity': popularity,\n",
    "        'prices': prices,\n",
    "        'ratings' : ratings\n",
    "    }"
   ]
  },
  {
   "cell_type": "code",
   "execution_count": 44,
   "metadata": {},
   "outputs": [],
   "source": [
    "food_ids_list = [fake.uuid4() for _ in range(num_food_items)]\n",
    "for i in range(num_food_items):\n",
    "    food_ids = food_ids_list[i]  # Food_ID\n",
    "    food_name = food_names[i]  # Food_Name\n",
    "    restaurant_ids = restaurant_ids_list\n",
    "\n",
    "    food_price_list = {}\n",
    "    taste_score_list = {}\n",
    "\n",
    "    for rest_id in restaurant_ids:\n",
    "        food_price_predictor = restaurant_pool[rest_id]['prices']  # Food_Price\n",
    "        \n",
    "        if 100 <= food_price_predictor <= 200:\n",
    "            price_ranges = {'breakfast': (40, 120), 'lunch': (110, 200), 'snack': (30, 90), 'dinner': (50, 200), 'dessert': (60, 150)}\n",
    "        elif 200 < food_price_predictor <= 300:\n",
    "            price_ranges = {'breakfast': (40, 120), 'lunch': (110, 250), 'snack': (30, 90), 'dinner': (50, 250), 'dessert': (60, 150)}\n",
    "        elif 300 < food_price_predictor <= 400:\n",
    "            price_ranges = {'breakfast': (80, 200), 'lunch': (180, 280), 'snack': (90, 150), 'dinner': (100, 300), 'dessert': (100, 220)}\n",
    "        elif 400 < food_price_predictor <= 600:\n",
    "            price_ranges = {'breakfast': (150, 250), 'lunch': (230, 450), 'snack': (150, 280), 'dinner': (200, 450), 'dessert': (150, 300)}\n",
    "        elif 600 < food_price_predictor <= 750:\n",
    "            price_ranges = {'breakfast': (150, 250), 'lunch': (250, 500), 'snack': (150, 280), 'dinner': (200, 550), 'dessert': (150, 300)}\n",
    "        else:\n",
    "            price_ranges = {'breakfast': (150, 250), 'lunch': (260, 600), 'snack': (160, 300), 'dinner': (290, 650), 'dessert': (150, 300)}\n",
    "        \n",
    "        if food_name in breakfast_list:\n",
    "            food_prices = random.randint(*price_ranges['breakfast'])\n",
    "        elif food_name in lunch_list:\n",
    "            food_prices = random.randint(*price_ranges['lunch'])\n",
    "        elif food_name in snack_list:\n",
    "            food_prices = random.randint(*price_ranges['snack'])\n",
    "        elif food_name in dinner_list:\n",
    "            food_prices = random.randint(*price_ranges['dinner'])\n",
    "        else:\n",
    "            food_prices = random.randint(*price_ranges['dessert'])\n",
    "\n",
    "        food_price_list[rest_id] = food_prices\n",
    "\n",
    "        # Taste Score Prediction inside the loop\n",
    "        taste_score_predictor = restaurant_pool[rest_id]['popularity']\n",
    "        if taste_score_predictor > 7.5:\n",
    "            taste_scores = round(random.uniform(7.5, 10), 2)\n",
    "        else:\n",
    "            taste_scores = round(random.uniform(5, 7.5), 2)\n",
    "\n",
    "        taste_score_list[rest_id] = taste_scores\n",
    "\n",
    "    is_vegetarian = 0 if food_name in non_vegetarian_foods else 1  # Is_Vegetarian (0 -> False, 1 -> True)\n",
    "\n",
    "    food_pool[food_ids] = {\n",
    "        'restaurant_ids': restaurant_ids,\n",
    "        'food_name': food_name,\n",
    "        'is_vegetarian': is_vegetarian,\n",
    "        'food_prices': food_price_list,\n",
    "        'taste_scores': taste_score_list\n",
    "    }"
   ]
  },
  {
   "cell_type": "code",
   "execution_count": 45,
   "metadata": {},
   "outputs": [],
   "source": [
    "User_Restaurant_Interaction = defaultdict(int)\n",
    "User_Food_Interaction = defaultdict(int)\n",
    "\n",
    "user_ids = [fake.uuid4() for _ in range(750)] # 750 Unique Users                # User_ID"
   ]
  },
  {
   "cell_type": "code",
   "execution_count": 47,
   "metadata": {},
   "outputs": [],
   "source": [
    "data = []\n",
    "for _ in range(data_entry):\n",
    "    User_ID = random.choice(user_ids)\n",
    "    Food_ID = random.choice(list(food_pool.keys()))\n",
    "    Restaurant_ID = random.choice(food_pool[Food_ID]['restaurant_ids']) \n",
    "    Restaurant_Name = restaurant_pool[Restaurant_ID]['restaurant_name']\n",
    "    Food_Name = food_pool[Food_ID]['food_name']\n",
    "    Is_Vegetarian = food_pool[Food_ID]['is_vegetarian']\n",
    "    Popularity = restaurant_pool[Restaurant_ID]['popularity']\n",
    "    Rating = restaurant_pool[Restaurant_ID]['ratings']\n",
    "    Price = restaurant_pool[Restaurant_ID]['prices']\n",
    "    Taste_Score = food_pool[Food_ID]['taste_scores'].get(Restaurant_ID, random.uniform(5, 7.5))\n",
    "    Food_Price = food_pool[Food_ID]['food_prices'].get(Restaurant_ID, restaurant_pool[Restaurant_ID]['prices'])\n",
    "\n",
    "    \n",
    "    User_Preference_Budget = random.randint(100, 1000)\n",
    "\n",
    "    # Initialize Interaction Counts\n",
    "    if (User_ID, Restaurant_ID) not in User_Restaurant_Interaction:\n",
    "        User_Restaurant_Interaction[(User_ID, Restaurant_ID)] = 0\n",
    "    if (User_ID, Food_ID) not in User_Food_Interaction:\n",
    "        User_Food_Interaction[(User_ID, Food_ID)] = 0\n",
    "\n",
    "    # Restricting poor restaurants from accumulating high interactions\n",
    "    if Rating < 2.5 or Taste_Score < 6.5 or (Price - User_Preference_Budget) > 300:\n",
    "        if User_Restaurant_Interaction[(User_ID, Restaurant_ID)] > 5:\n",
    "            continue\n",
    "\n",
    "    # Reducing probability of visiting a poor restaurant\n",
    "    if Rating < 2.5 or Taste_Score < 6.5:\n",
    "        if random.random() < 0.7:\n",
    "            continue\n",
    "\n",
    "    User_Restaurant_Interaction[(User_ID, Restaurant_ID)] += 1\n",
    "    User_Food_Interaction[(User_ID, Food_ID)] += 1\n",
    "\n",
    "    Distance = round(random.uniform(0.1, 6), 1)\n",
    "\n",
    "    # Feedback Calculation\n",
    "    if User_Restaurant_Interaction[(User_ID, Restaurant_ID)] >= 5 and Rating >= 3.0 and Taste_Score >= 6 and (Price - User_Preference_Budget) <= 250:\n",
    "        Feedback = 1\n",
    "    elif Rating >= 3.3 and Taste_Score >= 8:\n",
    "        if (Price - User_Preference_Budget) <= 200 or (Food_Price - User_Preference_Budget) <= 100:\n",
    "            Feedback = 1\n",
    "        else:\n",
    "            Feedback = 0\n",
    "    else:\n",
    "        Feedback = 0\n",
    "\n",
    "    data.append([\n",
    "        User_ID,\n",
    "        Restaurant_ID,\n",
    "        Food_ID,\n",
    "        Restaurant_Name,\n",
    "        Food_Name,\n",
    "        Is_Vegetarian,\n",
    "        Price,\n",
    "        Popularity,\n",
    "        Rating,\n",
    "        Taste_Score,\n",
    "        Food_Price,\n",
    "        User_Preference_Budget,\n",
    "        User_Restaurant_Interaction[(User_ID, Restaurant_ID)],\n",
    "        User_Food_Interaction[(User_ID, Food_ID)],\n",
    "        Distance,\n",
    "        Feedback\n",
    "    ])\n",
    "\n",
    "columns = [\n",
    "    'User_ID',\n",
    "    'Restaurant_ID',\n",
    "    'Food_ID',\n",
    "    'Restaurant_Name',\n",
    "    'Food_Name',\n",
    "    'Is_Vegetarian',\n",
    "    'Price',\n",
    "    'Popularity',\n",
    "    'Rating',\n",
    "    'Taste_Score',\n",
    "    'Food_Price',\n",
    "    'User_Preference_Budget',\n",
    "    'User_Restaurant_Interaction',\n",
    "    'User_Food_Interaction',\n",
    "    'Distance',\n",
    "    'Feedback'\n",
    "]\n"
   ]
  },
  {
   "cell_type": "code",
   "execution_count": 48,
   "metadata": {},
   "outputs": [],
   "source": [
    "df = pd.DataFrame(data, columns=columns)\n",
    "df.to_csv('dataset_faker_correctFoodPrice_5.csv', index=False)"
   ]
  },
  {
   "cell_type": "code",
   "execution_count": 49,
   "metadata": {},
   "outputs": [
    {
     "name": "stdout",
     "output_type": "stream",
     "text": [
      "Generated Restaurant IDs: ['0c4428c5-6822-48c2-b59c-0d489608e25d', '6005ee47-18bb-41a1-a528-0786809d36e2', 'f69e8ded-4194-48ca-9434-dfd75446231d', '9ba2a467-396a-48c8-8aac-318db70277fa', 'caca39fb-61f0-4563-92d8-45aed7df9b70', 'e294725a-9c5a-4a65-b267-15835628a0be', '35349def-c942-4474-8fe4-e765ac77dd2b', '41bb17a4-7bd2-4230-9484-a29635035462', 'a8d8bdd3-927d-4728-8886-be378984e4a4', '9cb7bee5-8375-43c9-b293-2cf14f40cbde', 'd3b5f081-a734-4368-8da3-f232e9704327', '399562cd-5e90-4852-af4b-ea2fd5551027', 'f8d3b4d1-064a-4b4f-9e66-40f6efa96e29', 'feb1e956-24b7-42a9-a5f7-7defed499ce0', '94c91152-2774-4714-bef5-799f7bdf7851', '7f0572f4-832e-4dfa-8027-2e934e712adb', 'e30d03ce-b07e-4bc8-b6c8-0d0399fd1267', '8797e0e7-5adb-46e2-89d3-f9cdd44a6b85', 'b70def38-ffa1-41eb-85f4-b81490ef3468', '9beb1d12-947b-46c4-8cbb-df2966fa4e3a']\n",
      "Unique Count: 20\n"
     ]
    }
   ],
   "source": [
    "print(f\"Generated Restaurant IDs: {restaurant_ids_list}\")\n",
    "print(f\"Unique Count: {len(set(restaurant_ids_list))}\")"
   ]
  }
 ],
 "metadata": {
  "kernelspec": {
   "display_name": "model_venv",
   "language": "python",
   "name": "python3"
  },
  "language_info": {
   "codemirror_mode": {
    "name": "ipython",
    "version": 3
   },
   "file_extension": ".py",
   "mimetype": "text/x-python",
   "name": "python",
   "nbconvert_exporter": "python",
   "pygments_lexer": "ipython3",
   "version": "3.13.0"
  }
 },
 "nbformat": 4,
 "nbformat_minor": 2
}
