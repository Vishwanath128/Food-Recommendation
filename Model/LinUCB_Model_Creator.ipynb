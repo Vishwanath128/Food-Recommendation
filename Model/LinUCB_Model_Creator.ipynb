{
 "cells": [
  {
   "cell_type": "code",
   "execution_count": 25,
   "metadata": {},
   "outputs": [],
   "source": [
    "import numpy as np\n",
    "import pickle"
   ]
  },
  {
   "cell_type": "code",
   "execution_count": 26,
   "metadata": {},
   "outputs": [],
   "source": [
    "class LinUCB:\n",
    "    def __init__(self, num_arms, num_features, alpha=1.0):\n",
    "        self.num_arms = num_arms\n",
    "        self.num_features = num_features\n",
    "        self.alpha = alpha\n",
    "\n",
    "        self.A = {a: np.identity(num_features) for a in range(num_arms)}\n",
    "        self.A_inv = {a: np.identity(num_features) for a in range(num_arms)}\n",
    "        self.b = {a: np.zeros((num_features, 1)) for a in range(num_arms)}\n",
    "\n",
    "    def select_top_n(self, context_matrix, n=10):\n",
    "        \"\"\"Selects top-N arms based on UCB scores.\"\"\"\n",
    "        ucb_scores = []\n",
    "        for a in range(self.num_arms):\n",
    "            context = context_matrix[a].reshape(-1, 1)\n",
    "            theta = np.dot(self.A_inv[a], self.b[a])\n",
    "            mean_reward = np.dot(theta.T, context)\n",
    "            uncertainty = self.alpha * np.sqrt(np.dot(context.T, np.dot(self.A_inv[a], context)))\n",
    "            ucb_value = mean_reward + uncertainty\n",
    "            \n",
    "            ucb_scores.append((a, ucb_value.item()))\n",
    "\n",
    "        # Sort arms by UCB score and return top-N\n",
    "        ucb_scores.sort(key=lambda x: x[1], reverse=True)\n",
    "        return [arm[0] for arm in ucb_scores[:n]]\n",
    "    \n",
    "    def update(self, action, context, reward):\n",
    "        \"\"\"Updates the model after receiving feedback.\"\"\"\n",
    "        context = context.reshape(-1, 1)\n",
    "        self.A[action] += np.dot(context, context.T)\n",
    "        self.b[action] += reward * context\n",
    "        \n",
    "        # Efficient A_inv update using the Sherman-Morrison formula\n",
    "        A_inv = self.A_inv[action]\n",
    "        v = np.dot(A_inv, context)\n",
    "        self.A_inv[action] = A_inv - (np.dot(v, v.T) / (1 + np.dot(context.T, v)))\n"
   ]
  },
  {
   "cell_type": "code",
   "execution_count": 27,
   "metadata": {},
   "outputs": [],
   "source": [
    "num_arms = 100\n",
    "num_features = 10"
   ]
  },
  {
   "cell_type": "code",
   "execution_count": 28,
   "metadata": {},
   "outputs": [
    {
     "name": "stdout",
     "output_type": "stream",
     "text": [
      "Model saved as LinUCB_Model_Final.pkl\n"
     ]
    }
   ],
   "source": [
    "# Model Instance\n",
    "linucb_model = LinUCB(num_arms = num_arms, num_features = num_features)\n",
    "\n",
    "# Saving Model for Training in GCP\n",
    "model_filename = 'LinUCB_Model_Final.pkl'\n",
    "with open(model_filename, \"wb\") as f:\n",
    "    pickle.dump(linucb_model, f)\n",
    "print(f\"Model saved as {model_filename}\")\n"
   ]
  }
 ],
 "metadata": {
  "kernelspec": {
   "display_name": "model_venv",
   "language": "python",
   "name": "python3"
  },
  "language_info": {
   "codemirror_mode": {
    "name": "ipython",
    "version": 3
   },
   "file_extension": ".py",
   "mimetype": "text/x-python",
   "name": "python",
   "nbconvert_exporter": "python",
   "pygments_lexer": "ipython3",
   "version": "3.13.0"
  }
 },
 "nbformat": 4,
 "nbformat_minor": 2
}
